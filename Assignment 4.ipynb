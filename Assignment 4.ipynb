{
 "cells": [
  {
   "cell_type": "markdown",
   "metadata": {},
   "source": [
    "# Assignment 4"
   ]
  },
  {
   "cell_type": "markdown",
   "metadata": {},
   "source": [
    "#### Ques 1. Write a Python Program(with class concepts) to find the area of the triangle using the below formula. area = (s*(s-a)*(s-b)*(s-c)) ** 0.5 Function to take the length of the sides of triangle from user should be defined in the parent class and function to calculate the area should be defined in subclass. "
   ]
  },
  {
   "cell_type": "code",
   "execution_count": 5,
   "metadata": {},
   "outputs": [
    {
     "name": "stdout",
     "output_type": "stream",
     "text": [
      "Enter the a sides of Triangle: 5\n",
      "Enter the b sides of Triangle: 9\n",
      "Enter the c sides of Triangle: 8\n",
      "19.8997487421324\n"
     ]
    }
   ],
   "source": [
    "class ParentClass(object):\n",
    "    def __init__(self):\n",
    "        self.s = float\n",
    "        self.a = None\n",
    "        self.b = None\n",
    "        self.c = None\n",
    "        self.get_sides()\n",
    "        self.calc_semiphere()\n",
    "\n",
    "    def get_sides(self):\n",
    "        self.a = float(input(\"Enter the a sides of Triangle: \"))\n",
    "        self.b = float(input(\"Enter the b sides of Triangle: \"))\n",
    "        self.c = float(input(\"Enter the c sides of Triangle: \"))\n",
    "\n",
    "    def calc_semiphere(self):\n",
    "        self.s = (self.a + self.b + self.c)/2\n",
    "\n",
    "\n",
    "class SubClass(ParentClass):\n",
    "    def __init__(self):\n",
    "        super(SubClass, self).__init__()\n",
    "        self.area = None\n",
    "        self.area_of_triangle()\n",
    "\n",
    "    def area_of_triangle(self):\n",
    "        self.area = (self.s * (self.s - self.a) * (self.s - self.b) * (self.s - self.c)) ** 0.5\n",
    "        print(self.area)\n",
    "\n",
    "\n",
    "sub = SubClass()\n"
   ]
  },
  {
   "cell_type": "markdown",
   "metadata": {},
   "source": [
    "#### Ques 2. Write a function filter_long_words() that takes a list of words and an integer n and returns the list of words that are longer than n."
   ]
  },
  {
   "cell_type": "code",
   "execution_count": 1,
   "metadata": {},
   "outputs": [
    {
     "name": "stdout",
     "output_type": "stream",
     "text": [
      "['hello', 'Mittin', 'doing']\n"
     ]
    }
   ],
   "source": [
    "def filter_long_words(data, size_check):\n",
    "    words = data.split()\n",
    "    new = []\n",
    "    for word in words:\n",
    "        if len(word) > size_check:\n",
    "            new.append(word)\n",
    "        else:\n",
    "            continue\n",
    "    return new\n",
    "\n",
    "\n",
    "if __name__ == '__main__':\n",
    "    new_data = filter_long_words(\"hello Mittin how you doing\", 3)\n",
    "    print(new_data)\n",
    "    "
   ]
  },
  {
   "cell_type": "markdown",
   "metadata": {},
   "source": [
    "#### Ques 3. Write a Python program using function concept that maps list of words into a list of integers representing the lengths of the corresponding words. Hint: If a list [ ab,cde,erty] is passed on to the python function output should come as [2,3,4] Here 2,3 and 4 are the lengths of the words in the list."
   ]
  },
  {
   "cell_type": "code",
   "execution_count": 2,
   "metadata": {},
   "outputs": [
    {
     "name": "stdout",
     "output_type": "stream",
     "text": [
      "Original Data: ['hello', 'Mellow', 'Kill', 'The', 'Bird']\n",
      "Resulted Data: [5, 6, 4, 3, 4]\n"
     ]
    }
   ],
   "source": [
    "\n",
    "def count_len(data):\n",
    "    result = list()\n",
    "    for word in data:\n",
    "        result.append(len(word))\n",
    "    return result\n",
    "\n",
    "\n",
    "if __name__ == '__main__':\n",
    "    data = [\"hello\", \"Mellow\", \"Kill\", \"The\", \"Bird\"]\n",
    "    result = count_len(data)\n",
    "    print(f\"Original Data: {data}\")\n",
    "    print(f\"Resulted Data: {result}\")\n"
   ]
  },
  {
   "cell_type": "markdown",
   "metadata": {},
   "source": [
    "#### Ques 4. Write a Python function which takes a character (i.e. a string of length 1) and returns True if it is a vowel, False otherwise."
   ]
  },
  {
   "cell_type": "code",
   "execution_count": 4,
   "metadata": {},
   "outputs": [
    {
     "name": "stdout",
     "output_type": "stream",
     "text": [
      "Enter a character: r\n",
      "Not a Vowel\n"
     ]
    }
   ],
   "source": [
    "class Vowel:\n",
    "    def __init__(self):\n",
    "        self.ch = None\n",
    "        self.flag = False\n",
    "        self.vowels = ['a', 'e', 'i', 'o', 'u']\n",
    "        self.get_input()\n",
    "        self.validate()\n",
    "        self.check_vowel()\n",
    "\n",
    "    def check_vowel(self):\n",
    "        if self.flag == True and self.ch.lower() in self.vowels:\n",
    "            print(\"it's a Vowel\")\n",
    "        elif self.flag == False:\n",
    "            return\n",
    "        else:\n",
    "            print(\"Not a Vowel\")\n",
    "\n",
    "    def get_input(self):\n",
    "        self.ch = input(\"Enter a character: \")\n",
    "\n",
    "    def validate(self):\n",
    "        if 1 < len(self.ch) > 1:\n",
    "            print(\"Enter only 1 character\")\n",
    "            self.flag = False\n",
    "            return\n",
    "        else:\n",
    "            self.flag = True\n",
    "\n",
    "\n",
    "v = Vowel()\n",
    "\n"
   ]
  },
  {
   "cell_type": "code",
   "execution_count": null,
   "metadata": {},
   "outputs": [],
   "source": []
  }
 ],
 "metadata": {
  "kernelspec": {
   "display_name": "Python 3",
   "language": "python",
   "name": "python3"
  },
  "language_info": {
   "codemirror_mode": {
    "name": "ipython",
    "version": 3
   },
   "file_extension": ".py",
   "mimetype": "text/x-python",
   "name": "python",
   "nbconvert_exporter": "python",
   "pygments_lexer": "ipython3",
   "version": "3.6.5"
  }
 },
 "nbformat": 4,
 "nbformat_minor": 2
}
