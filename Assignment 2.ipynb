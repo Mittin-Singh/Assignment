{
 "cells": [
  {
   "cell_type": "markdown",
   "metadata": {},
   "source": [
    "### Create the below pattern using nested for loop in Python."
   ]
  },
  {
   "cell_type": "raw",
   "metadata": {},
   "source": [
    "   *\n",
    "   **\n",
    "   ***\n",
    "   ****\n",
    "   *****\n",
    "   ****\n",
    "   ***\n",
    "   **\n",
    "   *\n"
   ]
  },
  {
   "cell_type": "code",
   "execution_count": 1,
   "metadata": {},
   "outputs": [
    {
     "name": "stdout",
     "output_type": "stream",
     "text": [
      "Enter length of pattern you want: 12\n",
      "*\n",
      "**\n",
      "***\n",
      "****\n",
      "*****\n",
      "******\n",
      "*******\n",
      "********\n",
      "*********\n",
      "**********\n",
      "***********\n",
      "************\n",
      "***********\n",
      "**********\n",
      "*********\n",
      "********\n",
      "*******\n",
      "******\n",
      "*****\n",
      "****\n",
      "***\n",
      "**\n",
      "*\n"
     ]
    }
   ],
   "source": [
    "def pattern(length):\n",
    "    end = length\n",
    "    start = 1\n",
    "    for row in range(start, end+1):\n",
    "        print(\"*\" * row)\n",
    "    for row in range(end-1, start-1, -1):\n",
    "        print(\"*\" * row)\n",
    "\n",
    "\n",
    "if __name__ == \"__main__\":\n",
    "    length = int(input(\"Enter length of pattern you want: \"))\n",
    "    pattern(length)"
   ]
  },
  {
   "cell_type": "markdown",
   "metadata": {},
   "source": [
    "### Write a Python program to reverse a word after accepting the input from the user."
   ]
  },
  {
   "cell_type": "code",
   "execution_count": 2,
   "metadata": {},
   "outputs": [
    {
     "name": "stdout",
     "output_type": "stream",
     "text": [
      "reversed name 1: hgniS teerpnittiM \n",
      "reversed name 2:  teerpnittiM hgniS\n"
     ]
    }
   ],
   "source": [
    "def rev(name):\n",
    "    rev_word_1 = ''\n",
    "    rev_word_2 = ''\n",
    "    words = name.split()\n",
    "    for word in words:\n",
    "        rev_word_1 = word[::-1] + ' ' + rev_word_1\n",
    "        rev_word_2 = rev_word_2 + ' ' + word[::-1]\n",
    "    return rev_word_1, rev_word_2\n",
    "\n",
    "\n",
    "if __name__ == '__main__':\n",
    "    rev_name1, rev_name2 = rev(\"Mittinpreet Singh\")\n",
    "    print(f\"reversed name 1: {rev_name1}\")\n",
    "    print(f\"reversed name 2: {rev_name2}\")\n",
    "\n"
   ]
  },
  {
   "cell_type": "code",
   "execution_count": null,
   "metadata": {},
   "outputs": [],
   "source": []
  }
 ],
 "metadata": {
  "kernelspec": {
   "display_name": "Python 3",
   "language": "python",
   "name": "python3"
  },
  "language_info": {
   "codemirror_mode": {
    "name": "ipython",
    "version": 3
   },
   "file_extension": ".py",
   "mimetype": "text/x-python",
   "name": "python",
   "nbconvert_exporter": "python",
   "pygments_lexer": "ipython3",
   "version": "3.6.5"
  }
 },
 "nbformat": 4,
 "nbformat_minor": 2
}
